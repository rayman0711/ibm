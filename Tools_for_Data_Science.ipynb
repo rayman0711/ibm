{
  "metadata": {
    "kernelspec": {
      "name": "python",
      "display_name": "Python (Pyodide)",
      "language": "python"
    },
    "language_info": {
      "codemirror_mode": {
        "name": "python",
        "version": 3
      },
      "file_extension": ".py",
      "mimetype": "text/x-python",
      "name": "python",
      "nbconvert_exporter": "python",
      "pygments_lexer": "ipython3",
      "version": "3.8"
    }
  },
  "nbformat_minor": 5,
  "nbformat": 4,
  "cells": [
    {
      "id": "3e377b2a-0aad-4be9-924e-9cbd798bf22e",
      "cell_type": "markdown",
      "source": "# Data Science Tools and Ecosystem\n",
      "metadata": {}
    },
    {
      "id": "a0962a6d-fbd1-4355-b609-3e7d12726f38",
      "cell_type": "markdown",
      "source": "In this notebook, I will summarize some of the key tools, languages, and libraries used by data scientists.  \nIt also includes examples of simple arithmetic expressions using Python code cells.\n",
      "metadata": {}
    },
    {
      "id": "222f672f-fce6-44e2-90df-6a52d72821ac",
      "cell_type": "markdown",
      "source": "### Data Science Languages\nSome of the most popular languages that Data Scientists use are:\n1. Python  \n2. R  \n3. SQL  \n4. Java  \n5. Julia  \n6. Scala  \n7. C++  \n8. JavaScript. ",
      "metadata": {}
    },
    {
      "id": "f1e47d8f-154d-4f5c-9ba9-1a42390be0c9",
      "cell_type": "markdown",
      "source": "### Data Science Libraries  \nSome of the commonly used libraries used by Data Scientists include:  \n1. Pandas  \n2. NumPy  \n3. Matplotlib  \n4. Scikit-learn  \n5. TensorFlow  \n6. Keras  \n7. PyTorch  \n8. ggplot2  \n9. dplyr",
      "metadata": {}
    },
    {
      "id": "640d3ade-d495-49e6-ab5e-251eb8c631d9",
      "cell_type": "markdown",
      "source": "### Data Science Tools  \n| Tool | Description |\n|------|--------------|\n| Jupyter Notebook | Open-source web application for interactive computing |\n| RStudio | IDE for R programming |\n| Apache Zeppelin | Web-based notebook for data analysis |\n| Spyder | IDE for scientific programming in Python |\n| GitHub | Version control and collaboration platform |",
      "metadata": {}
    },
    {
      "id": "260c9afc-31bd-48d2-9000-70d78c8fd919",
      "cell_type": "markdown",
      "source": "### Examples of Arithmetic Expressions  \nBelow are a few examples of simple arithmetic operations in Python.",
      "metadata": {}
    },
    {
      "id": "5ec60f0f-5904-4c2d-b1ab-ba66d8b4c15e",
      "cell_type": "code",
      "source": "# this a simple arithmetic expression to multiply then add integers\n(3 * 4) + 5",
      "metadata": {
        "trusted": true
      },
      "outputs": [
        {
          "execution_count": 1,
          "output_type": "execute_result",
          "data": {
            "text/plain": "17"
          },
          "metadata": {}
        }
      ],
      "execution_count": 1
    },
    {
      "id": "91362289-acb9-4be2-82bf-6316c2567006",
      "cell_type": "code",
      "source": "# this will convert 200 minutes to hours by dividing by 60\nminutes = 200\nhours = minutes / 60\nhours",
      "metadata": {
        "trusted": true
      },
      "outputs": [
        {
          "execution_count": 2,
          "output_type": "execute_result",
          "data": {
            "text/plain": "3.3333333333333335"
          },
          "metadata": {}
        }
      ],
      "execution_count": 2
    },
    {
      "id": "eb640fce-8e8c-42dc-9d2e-e59d1688ba06",
      "cell_type": "markdown",
      "source": "### Objectives  \n- List popular languages for Data Science  \n- Identify commonly used libraries in Data Science  \n- Create tables using Markdown  \n- Perform arithmetic operations in Python  \n- Share a Jupyter Notebook publicly on GitHub",
      "metadata": {}
    },
    {
      "id": "c3932f7e-2b82-476b-870e-5c9bd6e9ce29",
      "cell_type": "markdown",
      "source": "## Author  \nRayhan Louach",
      "metadata": {}
    },
    {
      "id": "155f00d9-36bb-4fe0-80bf-e0f31ec4e470",
      "cell_type": "code",
      "source": "",
      "metadata": {
        "trusted": true
      },
      "outputs": [],
      "execution_count": null
    }
  ]
}